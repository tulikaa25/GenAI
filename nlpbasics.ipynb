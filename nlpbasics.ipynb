{
  "nbformat": 4,
  "nbformat_minor": 0,
  "metadata": {
    "colab": {
      "provenance": [],
      "authorship_tag": "ABX9TyNU4RtLRTJXDM1tWXWjgxI2",
      "include_colab_link": true
    },
    "kernelspec": {
      "name": "python3",
      "display_name": "Python 3"
    },
    "language_info": {
      "name": "python"
    }
  },
  "cells": [
    {
      "cell_type": "markdown",
      "metadata": {
        "id": "view-in-github",
        "colab_type": "text"
      },
      "source": [
        "<a href=\"https://colab.research.google.com/github/tulikaa25/GenAI/blob/main/nlpbasics.ipynb\" target=\"_parent\"><img src=\"https://colab.research.google.com/assets/colab-badge.svg\" alt=\"Open In Colab\"/></a>"
      ]
    },
    {
      "cell_type": "code",
      "execution_count": 10,
      "metadata": {
        "colab": {
          "base_uri": "https://localhost:8080/"
        },
        "id": "xfYO8zXORgGM",
        "outputId": "cf9e138c-935c-4491-95d7-e6f2b60e6418"
      },
      "outputs": [
        {
          "output_type": "stream",
          "name": "stderr",
          "text": [
            "[nltk_data] Downloading package punkt_tab to /root/nltk_data...\n",
            "[nltk_data]   Unzipping tokenizers/punkt_tab.zip.\n"
          ]
        },
        {
          "output_type": "execute_result",
          "data": {
            "text/plain": [
              "True"
            ]
          },
          "metadata": {},
          "execution_count": 10
        }
      ],
      "source": [
        "import nltk\n",
        "from nltk.tokenize import word_tokenize,sent_tokenize\n",
        "nltk.download('punkt_tab')\n"
      ]
    },
    {
      "cell_type": "code",
      "source": [
        "txt=\"Natural Language Processing enables computers to understand, interpret, and respond to human language in a meaningful way, bridging the gap between human communication and machine understanding.Applications of NLP include sentiment analysis, language translation, chatbots, and voice recognition systems, transforming how humans interact with technology.\""
      ],
      "metadata": {
        "id": "k9WsoTZHSzve"
      },
      "execution_count": 4,
      "outputs": []
    },
    {
      "cell_type": "code",
      "source": [
        "txt"
      ],
      "metadata": {
        "colab": {
          "base_uri": "https://localhost:8080/",
          "height": 53
        },
        "id": "f5ZHmTPUS7_3",
        "outputId": "d6f89d6d-b8ff-4290-ad9e-dc734f5cd30f"
      },
      "execution_count": 6,
      "outputs": [
        {
          "output_type": "execute_result",
          "data": {
            "text/plain": [
              "'Natural Language Processing enables computers to understand, interpret, and respond to human language in a meaningful way, bridging the gap between human communication and machine understanding.Applications of NLP include sentiment analysis, language translation, chatbots, and voice recognition systems, transforming how humans interact with technology.'"
            ],
            "application/vnd.google.colaboratory.intrinsic+json": {
              "type": "string"
            }
          },
          "metadata": {},
          "execution_count": 6
        }
      ]
    },
    {
      "cell_type": "code",
      "source": [
        "sent_tokenize(txt)\n",
        "word_tokenize(txt)"
      ],
      "metadata": {
        "colab": {
          "base_uri": "https://localhost:8080/"
        },
        "id": "ZNcOMHTjTy3-",
        "outputId": "2167b784-cdec-4342-e3a1-87a9d7363382"
      },
      "execution_count": 12,
      "outputs": [
        {
          "output_type": "execute_result",
          "data": {
            "text/plain": [
              "['Natural',\n",
              " 'Language',\n",
              " 'Processing',\n",
              " 'enables',\n",
              " 'computers',\n",
              " 'to',\n",
              " 'understand',\n",
              " ',',\n",
              " 'interpret',\n",
              " ',',\n",
              " 'and',\n",
              " 'respond',\n",
              " 'to',\n",
              " 'human',\n",
              " 'language',\n",
              " 'in',\n",
              " 'a',\n",
              " 'meaningful',\n",
              " 'way',\n",
              " ',',\n",
              " 'bridging',\n",
              " 'the',\n",
              " 'gap',\n",
              " 'between',\n",
              " 'human',\n",
              " 'communication',\n",
              " 'and',\n",
              " 'machine',\n",
              " 'understanding.Applications',\n",
              " 'of',\n",
              " 'NLP',\n",
              " 'include',\n",
              " 'sentiment',\n",
              " 'analysis',\n",
              " ',',\n",
              " 'language',\n",
              " 'translation',\n",
              " ',',\n",
              " 'chatbots',\n",
              " ',',\n",
              " 'and',\n",
              " 'voice',\n",
              " 'recognition',\n",
              " 'systems',\n",
              " ',',\n",
              " 'transforming',\n",
              " 'how',\n",
              " 'humans',\n",
              " 'interact',\n",
              " 'with',\n",
              " 'technology',\n",
              " '.']"
            ]
          },
          "metadata": {},
          "execution_count": 12
        }
      ]
    },
    {
      "cell_type": "code",
      "source": [
        "from nltk.corpus import stopwords\n",
        "nltk.download('stopwords')"
      ],
      "metadata": {
        "colab": {
          "base_uri": "https://localhost:8080/"
        },
        "id": "RmipB3rgWgTO",
        "outputId": "5055a3a7-55d0-44ef-811f-ad72225332a2"
      },
      "execution_count": 13,
      "outputs": [
        {
          "output_type": "stream",
          "name": "stderr",
          "text": [
            "[nltk_data] Downloading package stopwords to /root/nltk_data...\n",
            "[nltk_data]   Unzipping corpora/stopwords.zip.\n"
          ]
        },
        {
          "output_type": "execute_result",
          "data": {
            "text/plain": [
              "True"
            ]
          },
          "metadata": {},
          "execution_count": 13
        }
      ]
    },
    {
      "cell_type": "code",
      "source": [
        "txt= txt.lower()\n",
        "txt"
      ],
      "metadata": {
        "colab": {
          "base_uri": "https://localhost:8080/",
          "height": 53
        },
        "id": "uDgwH4gBYKke",
        "outputId": "6d65966c-db42-4cba-b2d0-0254292d0fb5"
      },
      "execution_count": 16,
      "outputs": [
        {
          "output_type": "execute_result",
          "data": {
            "text/plain": [
              "'natural language processing enables computers to understand, interpret, and respond to human language in a meaningful way, bridging the gap between human communication and machine understanding.applications of nlp include sentiment analysis, language translation, chatbots, and voice recognition systems, transforming how humans interact with technology.'"
            ],
            "application/vnd.google.colaboratory.intrinsic+json": {
              "type": "string"
            }
          },
          "metadata": {},
          "execution_count": 16
        }
      ]
    },
    {
      "cell_type": "code",
      "source": [
        "words=word_tokenize(txt)\n",
        "words"
      ],
      "metadata": {
        "colab": {
          "base_uri": "https://localhost:8080/"
        },
        "id": "ybif0RRbYSV6",
        "outputId": "6f043018-3494-4bfe-fa77-22c4e5295f80"
      },
      "execution_count": 20,
      "outputs": [
        {
          "output_type": "execute_result",
          "data": {
            "text/plain": [
              "['natural',\n",
              " 'language',\n",
              " 'processing',\n",
              " 'enables',\n",
              " 'computers',\n",
              " 'to',\n",
              " 'understand',\n",
              " ',',\n",
              " 'interpret',\n",
              " ',',\n",
              " 'and',\n",
              " 'respond',\n",
              " 'to',\n",
              " 'human',\n",
              " 'language',\n",
              " 'in',\n",
              " 'a',\n",
              " 'meaningful',\n",
              " 'way',\n",
              " ',',\n",
              " 'bridging',\n",
              " 'the',\n",
              " 'gap',\n",
              " 'between',\n",
              " 'human',\n",
              " 'communication',\n",
              " 'and',\n",
              " 'machine',\n",
              " 'understanding.applications',\n",
              " 'of',\n",
              " 'nlp',\n",
              " 'include',\n",
              " 'sentiment',\n",
              " 'analysis',\n",
              " ',',\n",
              " 'language',\n",
              " 'translation',\n",
              " ',',\n",
              " 'chatbots',\n",
              " ',',\n",
              " 'and',\n",
              " 'voice',\n",
              " 'recognition',\n",
              " 'systems',\n",
              " ',',\n",
              " 'transforming',\n",
              " 'how',\n",
              " 'humans',\n",
              " 'interact',\n",
              " 'with',\n",
              " 'technology',\n",
              " '.']"
            ]
          },
          "metadata": {},
          "execution_count": 20
        }
      ]
    },
    {
      "cell_type": "code",
      "source": [
        "new_words=[word for word in words if word not in stopwords.words('english')]\n",
        "new_words"
      ],
      "metadata": {
        "colab": {
          "base_uri": "https://localhost:8080/"
        },
        "id": "4MFGPiBPYq8f",
        "outputId": "9a177d00-ed72-494e-f357-1ddafc4ad965"
      },
      "execution_count": 23,
      "outputs": [
        {
          "output_type": "execute_result",
          "data": {
            "text/plain": [
              "['natural',\n",
              " 'language',\n",
              " 'processing',\n",
              " 'enables',\n",
              " 'computers',\n",
              " 'understand',\n",
              " ',',\n",
              " 'interpret',\n",
              " ',',\n",
              " 'respond',\n",
              " 'human',\n",
              " 'language',\n",
              " 'meaningful',\n",
              " 'way',\n",
              " ',',\n",
              " 'bridging',\n",
              " 'gap',\n",
              " 'human',\n",
              " 'communication',\n",
              " 'machine',\n",
              " 'understanding.applications',\n",
              " 'nlp',\n",
              " 'include',\n",
              " 'sentiment',\n",
              " 'analysis',\n",
              " ',',\n",
              " 'language',\n",
              " 'translation',\n",
              " ',',\n",
              " 'chatbots',\n",
              " ',',\n",
              " 'voice',\n",
              " 'recognition',\n",
              " 'systems',\n",
              " ',',\n",
              " 'transforming',\n",
              " 'humans',\n",
              " 'interact',\n",
              " 'technology',\n",
              " '.']"
            ]
          },
          "metadata": {},
          "execution_count": 23
        }
      ]
    },
    {
      "cell_type": "code",
      "source": [
        "new_sent=\"this is a sample sentence, showing off the stop words filtration.\"\n",
        "words=word_tokenize(new_sent)"
      ],
      "metadata": {
        "id": "-7z_O-Ecabw7"
      },
      "execution_count": 40,
      "outputs": []
    },
    {
      "cell_type": "code",
      "source": [
        "words"
      ],
      "metadata": {
        "colab": {
          "base_uri": "https://localhost:8080/"
        },
        "id": "KSmS2UTVavtM",
        "outputId": "c0464d82-3720-404d-9d1d-e63a41ba5dd9"
      },
      "execution_count": 41,
      "outputs": [
        {
          "output_type": "execute_result",
          "data": {
            "text/plain": [
              "['this',\n",
              " 'is',\n",
              " 'a',\n",
              " 'sample',\n",
              " 'sentence',\n",
              " ',',\n",
              " 'showing',\n",
              " 'off',\n",
              " 'the',\n",
              " 'stop',\n",
              " 'words',\n",
              " 'filtration',\n",
              " '.']"
            ]
          },
          "metadata": {},
          "execution_count": 41
        }
      ]
    },
    {
      "cell_type": "code",
      "source": [
        "new_out=[word for word in words if word not in stopwords.words('english')]\n",
        "new_out"
      ],
      "metadata": {
        "colab": {
          "base_uri": "https://localhost:8080/"
        },
        "id": "8k7tMcz6axwm",
        "outputId": "e01ec269-1ffc-4c0c-d988-94f4edd88ab2"
      },
      "execution_count": 42,
      "outputs": [
        {
          "output_type": "execute_result",
          "data": {
            "text/plain": [
              "['sample', 'sentence', ',', 'showing', 'stop', 'words', 'filtration', '.']"
            ]
          },
          "metadata": {},
          "execution_count": 42
        }
      ]
    },
    {
      "cell_type": "code",
      "source": [
        "stop_list=[word for word in words if word in stopwords.words('english')]\n",
        "stop_list"
      ],
      "metadata": {
        "colab": {
          "base_uri": "https://localhost:8080/"
        },
        "id": "9EUNuiLsbPJf",
        "outputId": "38508c32-2e51-4e17-fa71-6d91bf95ab28"
      },
      "execution_count": 31,
      "outputs": [
        {
          "output_type": "execute_result",
          "data": {
            "text/plain": [
              "['this', 'is', 'a', 'off', 'the']"
            ]
          },
          "metadata": {},
          "execution_count": 31
        }
      ]
    },
    {
      "cell_type": "code",
      "source": [
        "from nltk.stem import PorterStemmer\n",
        "ps=PorterStemmer()\n",
        "newwords=[\"running\", \"best\",\"programming\"]\n",
        "stemmed_word=[ps.stem(word) for word in newwords]\n",
        "stemmed_word"
      ],
      "metadata": {
        "colab": {
          "base_uri": "https://localhost:8080/"
        },
        "id": "Jjd_RhoEpsAP",
        "outputId": "ed1acf05-19f0-4f08-d6bb-bed83f125df0"
      },
      "execution_count": 43,
      "outputs": [
        {
          "output_type": "execute_result",
          "data": {
            "text/plain": [
              "['run', 'best', 'program']"
            ]
          },
          "metadata": {},
          "execution_count": 43
        }
      ]
    },
    {
      "cell_type": "code",
      "source": [
        "from nltk.stem import WordNetLemmatizer\n",
        "lemma=WordNetLemmatizer()\n",
        "nltk.download('wordnet')\n",
        "wordlist=['running','run','best','happiness','programming','good','nice']\n",
        "lemmalist= [lemma.lemmatize(word) for word in wordlist]\n",
        "lemmalist\n"
      ],
      "metadata": {
        "colab": {
          "base_uri": "https://localhost:8080/"
        },
        "id": "kmabUVbA4kPn",
        "outputId": "001dd69d-e5b3-4dd4-9d7a-2f819aa08265"
      },
      "execution_count": 44,
      "outputs": [
        {
          "output_type": "stream",
          "name": "stderr",
          "text": [
            "[nltk_data] Downloading package wordnet to /root/nltk_data...\n"
          ]
        },
        {
          "output_type": "execute_result",
          "data": {
            "text/plain": [
              "['running', 'run', 'best', 'happiness', 'programming', 'good', 'nice']"
            ]
          },
          "metadata": {},
          "execution_count": 44
        }
      ]
    }
  ]
}